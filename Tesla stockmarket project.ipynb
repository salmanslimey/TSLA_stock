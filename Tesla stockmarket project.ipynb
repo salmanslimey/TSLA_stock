{
 "cells": [
  {
   "cell_type": "code",
   "execution_count": null,
   "metadata": {},
   "outputs": [],
   "source": [
    "# Import the pandas library for data manipulation and analysis\n",
    "import pandas as pd \n",
    "\n",
    "# Import the LinearRegression class from scikit-learn for building linear regression models\n",
    "from sklearn.linear_model import LinearRegression \n",
    "\n",
    "# Import the train_test_split function from scikit-learn for splitting the data into training and testing sets\n",
    "from sklearn.model_selection import train_test_split\n",
    "\n",
    "# Import the mean_absolute_error function from scikit-learn for evaluating model performance\n",
    "from sklearn.metrics import mean_absolute_error\n",
    "\n",
    "# Import the matplotlib library for creating data visualizations\n",
    "import matplotlib.pyplot as plt\n",
    "\n",
    "# Import the numpy library for numerical and array operations\n",
    "import numpy as np\n",
    "\n",
    "# Import the os module to find the right file path\n",
    "import os\n",
    "\n",
    "# Import the datetime class from the datetime module for working with date and time objects\n",
    "from datetime import datetime"
   ]
  },
  {
   "cell_type": "code",
   "execution_count": null,
   "metadata": {},
   "outputs": [],
   "source": [
    "# Set 'data' variable to the file path of a CSV file located in the user's Downloads folder.\n",
    "data = file_path = os.path.expanduser(r\"C:\\Users\\salma\\Downloads\\TSLA.csv\")"
   ]
  },
  {
   "cell_type": "code",
   "execution_count": null,
   "metadata": {},
   "outputs": [],
   "source": [
    "# Load the data with specifying the date format\n",
    "data = pd.read_csv(file_path, parse_dates=['Date'], date_parser=lambda x: pd.to_datetime(x, format='%Y-%m-%d'))"
   ]
  },
  {
   "cell_type": "code",
   "execution_count": null,
   "metadata": {},
   "outputs": [],
   "source": [
    "# Select relevant features\n",
    "X = data['Date'].dt.strftime('%Y%m%d').astype(int).values.reshape(-1, 1)\n",
    "y = data['Close'].values"
   ]
  },
  {
   "cell_type": "code",
   "execution_count": null,
   "metadata": {},
   "outputs": [],
   "source": [
    "# Split the data into training and testing sets\n",
    "X_train, X_test, y_train, y_test = train_test_split(X, y, test_size=0.2, random_state=42)"
   ]
  },
  {
   "cell_type": "code",
   "execution_count": null,
   "metadata": {},
   "outputs": [],
   "source": [
    "model = LinearRegression()\n",
    "model.fit(X_train, y_train)\n",
    "\n",
    "y_pred = model.predict(X_test)"
   ]
  },
  {
   "cell_type": "code",
   "execution_count": null,
   "metadata": {},
   "outputs": [],
   "source": [
    "# Compute the Mean Absolute Error (MAE) by comparing actual and predicted values\n",
    "mae = mean_absolute_error(y_test, y_pred)\n",
    "\n",
    "# Calculate a prediction accuracy score as a percentage based on MAE and the average of actual values\n",
    "prediction_percentage_score = 100 - (mae / y_test.mean()) * 100\n",
    "\n",
    "# Retrieve the dates corresponding to the test data from the 'Date' column\n",
    "date_test = np.array(data['Date'].iloc[-len(y_test):])\n"
   ]
  },
  {
   "cell_type": "code",
   "execution_count": null,
   "metadata": {},
   "outputs": [],
   "source": [
    "# Convert the 'y_test' values (actual prices) to a NumPy array\n",
    "y_test = np.array(y_test)\n",
    "\n",
    "# Convert the 'y_pred' values (predicted prices) to a NumPy array\n",
    "y_pred = np.array(y_pred)"
   ]
  },
  {
   "cell_type": "code",
   "execution_count": null,
   "metadata": {},
   "outputs": [],
   "source": [
    "# Create a new plot with a defined size of 12x6 inches\n",
    "plt.figure(figsize=(12, 6))\n",
    "\n",
    "# Display the actual prices from the test data using markers\n",
    "plt.plot(date_test, y_test, label='Actual Prices', marker='o')\n",
    "\n",
    "# Present the predicted prices with dashed lines and markers\n",
    "plt.plot(date_test, y_pred, label='Predicted Prices', linestyle='--', marker='x')\n",
    "\n",
    "# Label the x-axis as 'Date'\n",
    "plt.xlabel('Date')\n",
    "\n",
    "# Label the y-axis as 'Closing Price'\n",
    "plt.ylabel('Closing Price')\n",
    "\n",
    "# Assign a title to the plot\n",
    "plt.title('TESLA Stock Price Prediction for August 1, 2023 - October 1, 2023')\n",
    "\n",
    "# Add a legend to differentiate actual and predicted prices\n",
    "plt.legend()\n",
    "\n",
    "# Show a grid on the plot\n",
    "plt.grid(True)"
   ]
  },
  {
   "cell_type": "markdown",
   "metadata": {},
   "source": [
    "# Here is the image of the plot\n",
    "![Alt text](image-1.png)"
   ]
  },
  {
   "cell_type": "code",
   "execution_count": null,
   "metadata": {},
   "outputs": [],
   "source": [
    "plt.show()"
   ]
  },
  {
   "cell_type": "code",
   "execution_count": null,
   "metadata": {},
   "outputs": [],
   "source": [
    "# Determine the Mean Absolute Error (MAE) to assess the accuracy of predictions\n",
    "mae = mean_absolute_error(y_test, y_pred)\n",
    "\n",
    "# Compute a prediction success rate by considering MAE and the average of y_test\n",
    "prediction_percentage_score = 100 - (mae / y_test.mean()) * 100\n",
    "\n",
    "# Print the prediction accuracy score with precision to two decimal places\n",
    "print(f\"Accuracy of Predictions: {prediction_percentage_score:.2f}%\")"
   ]
  },
  {
   "cell_type": "markdown",
   "metadata": {},
   "source": [
    "The prediction accuracy was 84.56%"
   ]
  },
  {
   "cell_type": "code",
   "execution_count": null,
   "metadata": {},
   "outputs": [],
   "source": [
    "# Set the user's desired date as a text string\n",
    "user_target_date = '2023-10-15'\n",
    "\n",
    "# Transform the user's desired date from a string to a datetime object\n",
    "user_target_date = datetime.strptime(user_target_date, '%Y-%m-%d')\n",
    "\n",
    "# Convert the desired date into a numerical representation (an ordinal value)\n",
    "target_date_ordinal = user_target_date.toordinal()\n",
    "\n",
    "# Use the trained model to make a prediction for the specified date\n",
    "predicted_price = model.predict(X_test)[0]"
   ]
  },
  {
   "cell_type": "code",
   "execution_count": null,
   "metadata": {},
   "outputs": [],
   "source": [
    "print(predicted_price)"
   ]
  },
  {
   "cell_type": "markdown",
   "metadata": {},
   "source": [
    "The predicted price was: 213.40043137971952"
   ]
  }
 ],
 "metadata": {
  "kernelspec": {
   "display_name": "Python 3",
   "language": "python",
   "name": "python3"
  },
  "language_info": {
   "codemirror_mode": {
    "name": "ipython",
    "version": 3
   },
   "file_extension": ".py",
   "mimetype": "text/x-python",
   "name": "python",
   "nbconvert_exporter": "python",
   "pygments_lexer": "ipython3",
   "version": "3.9.6"
  }
 },
 "nbformat": 4,
 "nbformat_minor": 2
}
